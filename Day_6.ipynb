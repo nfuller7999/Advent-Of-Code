{
 "cells": [
  {
   "cell_type": "code",
   "execution_count": 58,
   "id": "12727456",
   "metadata": {},
   "outputs": [
    {
     "data": {
      "text/plain": [
       "Index    2400\n",
       "Spawn    1200\n",
       "dtype: int64"
      ]
     },
     "execution_count": 58,
     "metadata": {},
     "output_type": "execute_result"
    }
   ],
   "source": [
    "import pandas as pd \n",
    "df = pd.read_csv('day6_input.txt', sep=\",\", header=None, dtype=int)\n",
    "df = df.T\n",
    "df = df.rename(columns={0: 'Spawn'})\n",
    "df.memory_usage(deep=True)"
   ]
  },
  {
   "cell_type": "code",
   "execution_count": 70,
   "id": "f44bab66",
   "metadata": {
    "scrolled": false
   },
   "outputs": [],
   "source": [
    "x = [0,0,0,0,0,0,0,0,0]\n",
    "y = 0\n",
    "for i in range(8):\n",
    "    y = 0\n",
    "    for j in range(len(df)):\n",
    "        if df['Spawn'][j] == i:\n",
    "            y += 1\n",
    "    x[i] = y"
   ]
  },
  {
   "cell_type": "code",
   "execution_count": 72,
   "id": "4d30e45b",
   "metadata": {},
   "outputs": [],
   "source": [
    "for i in range(80):\n",
    "    x = [x[1], x[2], x[3], x[4], x[5], x[6], x[7] + x[0], x[8], x[0]]"
   ]
  },
  {
   "cell_type": "code",
   "execution_count": 73,
   "id": "8205f633",
   "metadata": {},
   "outputs": [
    {
     "name": "stdout",
     "output_type": "stream",
     "text": [
      "[19791, 52313, 29590, 49660, 48206, 40900, 73709, 18225, 43800]\n",
      "376194\n"
     ]
    }
   ],
   "source": [
    "print(x)\n",
    "print(sum(x))"
   ]
  },
  {
   "cell_type": "code",
   "execution_count": 78,
   "id": "c5e39c66",
   "metadata": {},
   "outputs": [],
   "source": [
    "x = [0,0,0,0,0,0,0,0,0]\n",
    "y = 0\n",
    "for i in range(8):\n",
    "    y = 0\n",
    "    for j in range(len(df)):\n",
    "        if df['Spawn'][j] == i:\n",
    "            y += 1\n",
    "    x[i] = y"
   ]
  },
  {
   "cell_type": "code",
   "execution_count": 79,
   "id": "5867bdf5",
   "metadata": {},
   "outputs": [],
   "source": [
    "for i in range(256):\n",
    "    x = [x[1], x[2], x[3], x[4], x[5], x[6], x[7] + x[0], x[8], x[0]]"
   ]
  },
  {
   "cell_type": "code",
   "execution_count": 80,
   "id": "dfd2a668",
   "metadata": {},
   "outputs": [
    {
     "name": "stdout",
     "output_type": "stream",
     "text": [
      "[145524920060, 172535493809, 182746176238, 194265170095, 228542416037, 222250758982, 277108938860, 119431349564, 150617257893]\n",
      "1693022481538\n"
     ]
    }
   ],
   "source": [
    "print(x)\n",
    "print(sum(x))"
   ]
  },
  {
   "cell_type": "code",
   "execution_count": null,
   "id": "72cc8ea5",
   "metadata": {},
   "outputs": [],
   "source": []
  }
 ],
 "metadata": {
  "kernelspec": {
   "display_name": "Python 3",
   "language": "python",
   "name": "python3"
  },
  "language_info": {
   "codemirror_mode": {
    "name": "ipython",
    "version": 3
   },
   "file_extension": ".py",
   "mimetype": "text/x-python",
   "name": "python",
   "nbconvert_exporter": "python",
   "pygments_lexer": "ipython3",
   "version": "3.8.8"
  }
 },
 "nbformat": 4,
 "nbformat_minor": 5
}
