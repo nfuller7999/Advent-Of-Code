{
 "cells": [
  {
   "cell_type": "code",
   "execution_count": 232,
   "id": "b6dd22ce",
   "metadata": {},
   "outputs": [
    {
     "name": "stderr",
     "output_type": "stream",
     "text": [
      "<ipython-input-232-185623d8c2f0>:4: ParserWarning: Falling back to the 'python' engine because the 'c' engine does not support regex separators (separators > 1 char and different from '\\s+' are interpreted as regex); you can avoid this warning by specifying engine='python'.\n",
      "  df = pd.read_csv('C:/Users/E01124/Desktop/day6_input_test.txt', sep=\"->\", header=None, names=[\"one\",\"two\"], dtype=str)\n",
      "<ipython-input-232-185623d8c2f0>:5: ParserWarning: Falling back to the 'python' engine because the 'c' engine does not support regex separators (separators > 1 char and different from '\\s+' are interpreted as regex); you can avoid this warning by specifying engine='python'.\n",
      "  df = pd.read_csv('C:/Users/E01124/Desktop/day5_input.txt', sep=\"->\", header=None, names=[\"one\",\"two\"], dtype=str)\n"
     ]
    }
   ],
   "source": [
    "import pandas as pd\n",
    "from collections import Counter\n",
    "\n",
    "df = pd.read_csv('day5_input.txt', sep=\"->\", header=None, names=[\"one\",\"two\"], dtype=str)"
   ]
  },
  {
   "cell_type": "code",
   "execution_count": 233,
   "id": "1aed8464",
   "metadata": {},
   "outputs": [
    {
     "data": {
      "text/html": [
       "<div>\n",
       "<style scoped>\n",
       "    .dataframe tbody tr th:only-of-type {\n",
       "        vertical-align: middle;\n",
       "    }\n",
       "\n",
       "    .dataframe tbody tr th {\n",
       "        vertical-align: top;\n",
       "    }\n",
       "\n",
       "    .dataframe thead th {\n",
       "        text-align: right;\n",
       "    }\n",
       "</style>\n",
       "<table border=\"1\" class=\"dataframe\">\n",
       "  <thead>\n",
       "    <tr style=\"text-align: right;\">\n",
       "      <th></th>\n",
       "      <th>one</th>\n",
       "      <th>two</th>\n",
       "    </tr>\n",
       "  </thead>\n",
       "  <tbody>\n",
       "    <tr>\n",
       "      <th>0</th>\n",
       "      <td>242,601</td>\n",
       "      <td>242,18</td>\n",
       "    </tr>\n",
       "    <tr>\n",
       "      <th>1</th>\n",
       "      <td>938,357</td>\n",
       "      <td>938,128</td>\n",
       "    </tr>\n",
       "    <tr>\n",
       "      <th>2</th>\n",
       "      <td>920,574</td>\n",
       "      <td>750,574</td>\n",
       "    </tr>\n",
       "    <tr>\n",
       "      <th>3</th>\n",
       "      <td>804,978</td>\n",
       "      <td>804,813</td>\n",
       "    </tr>\n",
       "    <tr>\n",
       "      <th>4</th>\n",
       "      <td>955,932</td>\n",
       "      <td>68,45</td>\n",
       "    </tr>\n",
       "    <tr>\n",
       "      <th>5</th>\n",
       "      <td>232,604</td>\n",
       "      <td>232,843</td>\n",
       "    </tr>\n",
       "    <tr>\n",
       "      <th>6</th>\n",
       "      <td>69,570</td>\n",
       "      <td>467,968</td>\n",
       "    </tr>\n",
       "  </tbody>\n",
       "</table>\n",
       "</div>"
      ],
      "text/plain": [
       "        one       two\n",
       "0  242,601     242,18\n",
       "1  938,357    938,128\n",
       "2  920,574    750,574\n",
       "3  804,978    804,813\n",
       "4  955,932      68,45\n",
       "5  232,604    232,843\n",
       "6   69,570    467,968"
      ]
     },
     "execution_count": 233,
     "metadata": {},
     "output_type": "execute_result"
    }
   ],
   "source": [
    "df.head(7)"
   ]
  },
  {
   "cell_type": "code",
   "execution_count": 234,
   "id": "d9e60a58",
   "metadata": {},
   "outputs": [
    {
     "data": {
      "text/html": [
       "<div>\n",
       "<style scoped>\n",
       "    .dataframe tbody tr th:only-of-type {\n",
       "        vertical-align: middle;\n",
       "    }\n",
       "\n",
       "    .dataframe tbody tr th {\n",
       "        vertical-align: top;\n",
       "    }\n",
       "\n",
       "    .dataframe thead th {\n",
       "        text-align: right;\n",
       "    }\n",
       "</style>\n",
       "<table border=\"1\" class=\"dataframe\">\n",
       "  <thead>\n",
       "    <tr style=\"text-align: right;\">\n",
       "      <th></th>\n",
       "      <th>x1</th>\n",
       "      <th>y1</th>\n",
       "      <th>x2</th>\n",
       "      <th>y2</th>\n",
       "    </tr>\n",
       "  </thead>\n",
       "  <tbody>\n",
       "    <tr>\n",
       "      <th>0</th>\n",
       "      <td>242</td>\n",
       "      <td>601</td>\n",
       "      <td>242</td>\n",
       "      <td>18</td>\n",
       "    </tr>\n",
       "    <tr>\n",
       "      <th>1</th>\n",
       "      <td>938</td>\n",
       "      <td>357</td>\n",
       "      <td>938</td>\n",
       "      <td>128</td>\n",
       "    </tr>\n",
       "    <tr>\n",
       "      <th>2</th>\n",
       "      <td>920</td>\n",
       "      <td>574</td>\n",
       "      <td>750</td>\n",
       "      <td>574</td>\n",
       "    </tr>\n",
       "    <tr>\n",
       "      <th>3</th>\n",
       "      <td>804</td>\n",
       "      <td>978</td>\n",
       "      <td>804</td>\n",
       "      <td>813</td>\n",
       "    </tr>\n",
       "    <tr>\n",
       "      <th>4</th>\n",
       "      <td>955</td>\n",
       "      <td>932</td>\n",
       "      <td>68</td>\n",
       "      <td>45</td>\n",
       "    </tr>\n",
       "    <tr>\n",
       "      <th>...</th>\n",
       "      <td>...</td>\n",
       "      <td>...</td>\n",
       "      <td>...</td>\n",
       "      <td>...</td>\n",
       "    </tr>\n",
       "    <tr>\n",
       "      <th>495</th>\n",
       "      <td>716</td>\n",
       "      <td>232</td>\n",
       "      <td>983</td>\n",
       "      <td>232</td>\n",
       "    </tr>\n",
       "    <tr>\n",
       "      <th>496</th>\n",
       "      <td>975</td>\n",
       "      <td>183</td>\n",
       "      <td>975</td>\n",
       "      <td>759</td>\n",
       "    </tr>\n",
       "    <tr>\n",
       "      <th>497</th>\n",
       "      <td>934</td>\n",
       "      <td>958</td>\n",
       "      <td>117</td>\n",
       "      <td>958</td>\n",
       "    </tr>\n",
       "    <tr>\n",
       "      <th>498</th>\n",
       "      <td>538</td>\n",
       "      <td>806</td>\n",
       "      <td>538</td>\n",
       "      <td>84</td>\n",
       "    </tr>\n",
       "    <tr>\n",
       "      <th>499</th>\n",
       "      <td>695</td>\n",
       "      <td>677</td>\n",
       "      <td>629</td>\n",
       "      <td>677</td>\n",
       "    </tr>\n",
       "  </tbody>\n",
       "</table>\n",
       "<p>500 rows × 4 columns</p>\n",
       "</div>"
      ],
      "text/plain": [
       "      x1   y1   x2   y2\n",
       "0    242  601  242   18\n",
       "1    938  357  938  128\n",
       "2    920  574  750  574\n",
       "3    804  978  804  813\n",
       "4    955  932   68   45\n",
       "..   ...  ...  ...  ...\n",
       "495  716  232  983  232\n",
       "496  975  183  975  759\n",
       "497  934  958  117  958\n",
       "498  538  806  538   84\n",
       "499  695  677  629  677\n",
       "\n",
       "[500 rows x 4 columns]"
      ]
     },
     "execution_count": 234,
     "metadata": {},
     "output_type": "execute_result"
    }
   ],
   "source": [
    "df[['x1','y1']] = df['one'].str.split(',',expand=True)\n",
    "df[['x2','y2']] = df['two'].str.split(',',expand=True)\n",
    "df = df.drop('one', 1)\n",
    "df = df.drop('two', 1)\n",
    "df = df.astype('int')\n",
    "df"
   ]
  },
  {
   "cell_type": "code",
   "execution_count": 239,
   "id": "22567cb4",
   "metadata": {},
   "outputs": [],
   "source": [
    "df1 = []\n",
    "counter = 0\n",
    "for i in range(len(df)):\n",
    "    if df['x1'][i] > df['x2'][i] and df['y1'][i] == df['y2'][i]:\n",
    "        for j in range(df['x2'][i], df['x1'][i]+1):\n",
    "            df1.append([j,df['y1'][i]])\n",
    "    if df['x1'][i] < df['x2'][i] and df['y1'][i] == df['y2'][i]:\n",
    "        for j in range(df['x1'][i], df['x2'][i]+1):\n",
    "            df1.append([j,df['y1'][i]])\n",
    "    if df['y1'][i] > df['y2'][i] and df['x1'][i] == df['x2'][i]:\n",
    "        for j in range(df['y2'][i], df['y1'][i]+1):\n",
    "            df1.append([df['x1'][i],j])\n",
    "    if df['y1'][i] < df['y2'][i] and df['x1'][i] == df['x2'][i]:\n",
    "        for j in range(df['y1'][i], df['y2'][i]+1):\n",
    "            df1.append([df['x1'][i],j])"
   ]
  },
  {
   "cell_type": "code",
   "execution_count": 240,
   "id": "6840f1fc",
   "metadata": {},
   "outputs": [
    {
     "name": "stdout",
     "output_type": "stream",
     "text": [
      "4993\n"
     ]
    }
   ],
   "source": [
    "df2 = pd.DataFrame(df1, columns=['x', 'y'])\n",
    "vc = df2.value_counts()\n",
    "print(len(vc[vc>1]))"
   ]
  },
  {
   "cell_type": "code",
   "execution_count": 237,
   "id": "577025a4",
   "metadata": {},
   "outputs": [],
   "source": [
    "df1 = []\n",
    "counter = 0\n",
    "for i in range(len(df)):\n",
    "    if df['x1'][i] > df['x2'][i] and df['y1'][i] == df['y2'][i]:\n",
    "        for j in range(df['x2'][i], df['x1'][i]+1):\n",
    "            df1.append([j,df['y1'][i]])\n",
    "    if df['x1'][i] < df['x2'][i] and df['y1'][i] == df['y2'][i]:\n",
    "        for j in range(df['x1'][i], df['x2'][i]+1):\n",
    "            df1.append([j,df['y1'][i]])\n",
    "    if df['y1'][i] > df['y2'][i] and df['x1'][i] == df['x2'][i]:\n",
    "        for j in range(df['y2'][i], df['y1'][i]+1):\n",
    "            df1.append([df['x1'][i],j])\n",
    "    if df['y1'][i] < df['y2'][i] and df['x1'][i] == df['x2'][i]:\n",
    "        for j in range(df['y1'][i], df['y2'][i]+1):\n",
    "            df1.append([df['x1'][i],j])\n",
    "    if df['x1'][i] != df['x2'][i] and df['y1'][i] != df['y2'][i]:\n",
    "        if df['x1'][i] > df['x2'][i] and df['y1'][i] > df['y2'][i]:\n",
    "            for j in range(df['x2'][i], df['x1'][i]+1):\n",
    "                df1.append([j,df['y2'][i]+counter])\n",
    "                counter += 1\n",
    "            counter = 0    \n",
    "        if df['x1'][i] > df['x2'][i] and df['y1'][i] < df['y2'][i]:\n",
    "            for j in range(df['x2'][i], df['x1'][i]+1):\n",
    "                df1.append([j,df['y2'][i]-counter])\n",
    "                counter += 1\n",
    "            counter = 0 \n",
    "        if df['x1'][i] < df['x2'][i] and df['y1'][i] > df['y2'][i]:\n",
    "            for j in range(df['x1'][i], df['x2'][i]+1):\n",
    "                df1.append([j,df['y1'][i]-counter])              \n",
    "                counter += 1\n",
    "            counter = 0 \n",
    "        if df['x1'][i] < df['x2'][i] and df['y1'][i] < df['y2'][i]:\n",
    "            for j in range(df['x1'][i], df['x2'][i]+1):\n",
    "                df1.append([j,df['y1'][i]+counter])\n",
    "                counter += 1\n",
    "            counter = 0 "
   ]
  },
  {
   "cell_type": "code",
   "execution_count": 238,
   "id": "2a755b39",
   "metadata": {},
   "outputs": [
    {
     "name": "stdout",
     "output_type": "stream",
     "text": [
      "21101\n"
     ]
    }
   ],
   "source": [
    "df2 = pd.DataFrame(df1, columns=['x', 'y'])\n",
    "vc = df2.value_counts()\n",
    "print(len(vc[vc>1]))"
   ]
  },
  {
   "cell_type": "code",
   "execution_count": null,
   "id": "22824ac8",
   "metadata": {},
   "outputs": [],
   "source": []
  }
 ],
 "metadata": {
  "kernelspec": {
   "display_name": "Python 3",
   "language": "python",
   "name": "python3"
  },
  "language_info": {
   "codemirror_mode": {
    "name": "ipython",
    "version": 3
   },
   "file_extension": ".py",
   "mimetype": "text/x-python",
   "name": "python",
   "nbconvert_exporter": "python",
   "pygments_lexer": "ipython3",
   "version": "3.8.8"
  }
 },
 "nbformat": 4,
 "nbformat_minor": 5
}
