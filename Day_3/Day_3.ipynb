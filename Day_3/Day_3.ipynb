{
 "cells": [
  {
   "cell_type": "code",
   "execution_count": 301,
   "id": "9e27c120",
   "metadata": {},
   "outputs": [],
   "source": [
    "import pandas as pd \n",
    "\n",
    "df = pd.read_csv('C:/Users/nathan/Desktop/day3_input.txt', sep=\" \", header=None, names=[\"bin\"], dtype=str)"
   ]
  },
  {
   "cell_type": "code",
   "execution_count": 295,
   "id": "7eeaa989",
   "metadata": {},
   "outputs": [],
   "source": [
    "bina = \"\"\n",
    "bina_min = \"\"\n",
    "temp = \"\"\n",
    "for i in range(12):\n",
    "    temp = df.bin.str[i].mode()\n",
    "    bina += temp"
   ]
  },
  {
   "cell_type": "code",
   "execution_count": 296,
   "id": "b0824e59",
   "metadata": {},
   "outputs": [],
   "source": [
    "bina2 = \"\"\n",
    "bina_min = \"\"\n",
    "temp = \"\"\n",
    "for i in range(12):\n",
    "    temp = df.bin.str[i].value_counts()\n",
    "    temp = temp.index[-1]\n",
    "    bina2 += temp"
   ]
  },
  {
   "cell_type": "code",
   "execution_count": 297,
   "id": "ea2ee61f",
   "metadata": {},
   "outputs": [
    {
     "name": "stdout",
     "output_type": "stream",
     "text": [
      "Gamma Rate: 010100111001\n",
      "Decimal of Gamma: 1337\n",
      "Epsilon Rate:  101011000110\n",
      "Decimal of Epsilon: 2758\n",
      "Solution:  3687446\n"
     ]
    }
   ],
   "source": [
    "print(\"Gamma Rate:\", bina[0])\n",
    "print(\"Decimal of Gamma: 1337\")\n",
    "print(\"Epsilon Rate: \", bina2)\n",
    "print(\"Decimal of Epsilon: 2758\")\n",
    "print(\"Solution: \", 1337*2758)"
   ]
  },
  {
   "cell_type": "code",
   "execution_count": 309,
   "id": "f2f69996",
   "metadata": {},
   "outputs": [],
   "source": [
    "df1 = df\n",
    "temp = \"\"\n",
    "temp1 = \"\"\n",
    "temp2 = \"\"\n",
    "for i in range(12):\n",
    "    temp = df1.bin.str[i].value_counts().sort_index(ascending=False).sort_values(ascending=False)\n",
    "    temp1 = temp.index[0]\n",
    "    temp2 = temp.index[-1]\n",
    "    df1 = df1[df1.bin.str[i] == temp1]"
   ]
  },
  {
   "cell_type": "code",
   "execution_count": 299,
   "id": "57b55376",
   "metadata": {},
   "outputs": [],
   "source": [
    "df2 = df\n",
    "temp = \"\"\n",
    "temp1 = \"\"\n",
    "temp2 = \"\"\n",
    "for i in range(12):\n",
    "    temp = df2.bin.str[i].value_counts().sort_index(ascending=False).sort_values(ascending=False)\n",
    "    temp1 = temp.index[0]\n",
    "    temp2 = temp.index[-1]\n",
    "    df2 = df2[df2.bin.str[i] == temp2]"
   ]
  },
  {
   "cell_type": "code",
   "execution_count": 315,
   "id": "e7e1f8b9",
   "metadata": {},
   "outputs": [
    {
     "name": "stdout",
     "output_type": "stream",
     "text": [
      "02 Rate:               bin\n",
      "220  011000111111\n",
      "Decimal of 02: 1599\n",
      "C02 Rate:               bin\n",
      "36  101011000100\n",
      "Decimal of C02: 2756\n",
      "Solution:  4406844\n"
     ]
    }
   ],
   "source": [
    "print(\"02 Rate:\", df1)\n",
    "print(\"Decimal of 02: 1599\")\n",
    "print(\"C02 Rate: \", df2)\n",
    "print(\"Decimal of C02: 2756\")\n",
    "print(\"Solution: \", 1599*2756)"
   ]
  },
  {
   "cell_type": "code",
   "execution_count": null,
   "id": "968c022a",
   "metadata": {},
   "outputs": [],
   "source": []
  }
 ],
 "metadata": {
  "kernelspec": {
   "display_name": "Python 3",
   "language": "python",
   "name": "python3"
  },
  "language_info": {
   "codemirror_mode": {
    "name": "ipython",
    "version": 3
   },
   "file_extension": ".py",
   "mimetype": "text/x-python",
   "name": "python",
   "nbconvert_exporter": "python",
   "pygments_lexer": "ipython3",
   "version": "3.8.8"
  }
 },
 "nbformat": 4,
 "nbformat_minor": 5
}
