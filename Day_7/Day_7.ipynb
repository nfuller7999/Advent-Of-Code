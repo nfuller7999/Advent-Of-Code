{
 "cells": [
  {
   "cell_type": "code",
   "execution_count": 126,
   "id": "e0bf7fc3",
   "metadata": {},
   "outputs": [
    {
     "name": "stdout",
     "output_type": "stream",
     "text": [
      "Index    8000\n",
      "dis      4000\n",
      "dtype: int64\n"
     ]
    },
    {
     "data": {
      "text/html": [
       "<div>\n",
       "<style scoped>\n",
       "    .dataframe tbody tr th:only-of-type {\n",
       "        vertical-align: middle;\n",
       "    }\n",
       "\n",
       "    .dataframe tbody tr th {\n",
       "        vertical-align: top;\n",
       "    }\n",
       "\n",
       "    .dataframe thead th {\n",
       "        text-align: right;\n",
       "    }\n",
       "</style>\n",
       "<table border=\"1\" class=\"dataframe\">\n",
       "  <thead>\n",
       "    <tr style=\"text-align: right;\">\n",
       "      <th></th>\n",
       "      <th>dis</th>\n",
       "    </tr>\n",
       "  </thead>\n",
       "  <tbody>\n",
       "    <tr>\n",
       "      <th>0</th>\n",
       "      <td>1101</td>\n",
       "    </tr>\n",
       "    <tr>\n",
       "      <th>1</th>\n",
       "      <td>1</td>\n",
       "    </tr>\n",
       "    <tr>\n",
       "      <th>2</th>\n",
       "      <td>29</td>\n",
       "    </tr>\n",
       "    <tr>\n",
       "      <th>3</th>\n",
       "      <td>67</td>\n",
       "    </tr>\n",
       "    <tr>\n",
       "      <th>4</th>\n",
       "      <td>1102</td>\n",
       "    </tr>\n",
       "    <tr>\n",
       "      <th>...</th>\n",
       "      <td>...</td>\n",
       "    </tr>\n",
       "    <tr>\n",
       "      <th>995</th>\n",
       "      <td>14</td>\n",
       "    </tr>\n",
       "    <tr>\n",
       "      <th>996</th>\n",
       "      <td>8</td>\n",
       "    </tr>\n",
       "    <tr>\n",
       "      <th>997</th>\n",
       "      <td>85</td>\n",
       "    </tr>\n",
       "    <tr>\n",
       "      <th>998</th>\n",
       "      <td>92</td>\n",
       "    </tr>\n",
       "    <tr>\n",
       "      <th>999</th>\n",
       "      <td>1579</td>\n",
       "    </tr>\n",
       "  </tbody>\n",
       "</table>\n",
       "<p>1000 rows × 1 columns</p>\n",
       "</div>"
      ],
      "text/plain": [
       "      dis\n",
       "0    1101\n",
       "1       1\n",
       "2      29\n",
       "3      67\n",
       "4    1102\n",
       "..    ...\n",
       "995    14\n",
       "996     8\n",
       "997    85\n",
       "998    92\n",
       "999  1579\n",
       "\n",
       "[1000 rows x 1 columns]"
      ]
     },
     "execution_count": 126,
     "metadata": {},
     "output_type": "execute_result"
    }
   ],
   "source": [
    "import pandas as pd \n",
    "df = pd.read_csv('C:/Users/Daniel/Desktop/Day7_input.txt', sep=\",\", header=None, dtype=int)\n",
    "df = df.T\n",
    "df = df.rename(columns={0: 'dis'})\n",
    "print(df.memory_usage(deep=True))\n",
    "df"
   ]
  },
  {
   "cell_type": "code",
   "execution_count": 127,
   "id": "85107103",
   "metadata": {},
   "outputs": [],
   "source": [
    "fix = []\n",
    "fuel = 0\n",
    "for i in range(len(df)):\n",
    "    fuel = 0\n",
    "    for j in range(len(df)):\n",
    "        x = i\n",
    "        if df['dis'][j] > x:\n",
    "            fuel = fuel + df['dis'][j] - x\n",
    "        if df['dis'][j] < x:\n",
    "            fuel = fuel + x - df['dis'][j]\n",
    "        else:\n",
    "            fuel = fuel + 0\n",
    "    fix.append(fuel)"
   ]
  },
  {
   "cell_type": "code",
   "execution_count": 128,
   "id": "8eba7259",
   "metadata": {},
   "outputs": [
    {
     "data": {
      "text/plain": [
       "329389"
      ]
     },
     "execution_count": 128,
     "metadata": {},
     "output_type": "execute_result"
    }
   ],
   "source": [
    "min(fix)"
   ]
  },
  {
   "cell_type": "code",
   "execution_count": 130,
   "id": "9bc5738c",
   "metadata": {},
   "outputs": [],
   "source": [
    "fix = []\n",
    "fuel = 0\n",
    "temp = 0\n",
    "for i in range(len(df)):\n",
    "    fuel = 0\n",
    "    for j in range(len(df)):\n",
    "        x = i\n",
    "        if df['dis'][j] > x:\n",
    "            temp = df['dis'][j] - x + 1\n",
    "            for k in range(temp):\n",
    "                fuel = fuel + k\n",
    "        if df['dis'][j] < x:\n",
    "            temp = x - df['dis'][j] + 1\n",
    "            for k in range(temp):\n",
    "                fuel = fuel + k\n",
    "        else:\n",
    "            continue\n",
    "    fix.append(fuel)"
   ]
  },
  {
   "cell_type": "code",
   "execution_count": 131,
   "id": "7bebc4d0",
   "metadata": {},
   "outputs": [
    {
     "data": {
      "text/plain": [
       "86397080"
      ]
     },
     "execution_count": 131,
     "metadata": {},
     "output_type": "execute_result"
    }
   ],
   "source": [
    "min(fix)"
   ]
  },
  {
   "cell_type": "code",
   "execution_count": null,
   "id": "7a08118b",
   "metadata": {},
   "outputs": [],
   "source": []
  }
 ],
 "metadata": {
  "kernelspec": {
   "display_name": "Python 3 (ipykernel)",
   "language": "python",
   "name": "python3"
  },
  "language_info": {
   "codemirror_mode": {
    "name": "ipython",
    "version": 3
   },
   "file_extension": ".py",
   "mimetype": "text/x-python",
   "name": "python",
   "nbconvert_exporter": "python",
   "pygments_lexer": "ipython3",
   "version": "3.9.7"
  }
 },
 "nbformat": 4,
 "nbformat_minor": 5
}
