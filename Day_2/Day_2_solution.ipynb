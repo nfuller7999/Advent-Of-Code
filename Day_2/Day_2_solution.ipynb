{
 "cells": [
  {
   "cell_type": "code",
   "execution_count": 70,
   "id": "b3869556",
   "metadata": {},
   "outputs": [
    {
     "data": {
      "text/html": [
       "<div>\n",
       "<style scoped>\n",
       "    .dataframe tbody tr th:only-of-type {\n",
       "        vertical-align: middle;\n",
       "    }\n",
       "\n",
       "    .dataframe tbody tr th {\n",
       "        vertical-align: top;\n",
       "    }\n",
       "\n",
       "    .dataframe thead th {\n",
       "        text-align: right;\n",
       "    }\n",
       "</style>\n",
       "<table border=\"1\" class=\"dataframe\">\n",
       "  <thead>\n",
       "    <tr style=\"text-align: right;\">\n",
       "      <th></th>\n",
       "      <th>loc</th>\n",
       "      <th>mag</th>\n",
       "    </tr>\n",
       "  </thead>\n",
       "  <tbody>\n",
       "    <tr>\n",
       "      <th>0</th>\n",
       "      <td>forward</td>\n",
       "      <td>1</td>\n",
       "    </tr>\n",
       "    <tr>\n",
       "      <th>1</th>\n",
       "      <td>down</td>\n",
       "      <td>6</td>\n",
       "    </tr>\n",
       "    <tr>\n",
       "      <th>2</th>\n",
       "      <td>forward</td>\n",
       "      <td>8</td>\n",
       "    </tr>\n",
       "    <tr>\n",
       "      <th>3</th>\n",
       "      <td>up</td>\n",
       "      <td>3</td>\n",
       "    </tr>\n",
       "    <tr>\n",
       "      <th>4</th>\n",
       "      <td>down</td>\n",
       "      <td>1</td>\n",
       "    </tr>\n",
       "    <tr>\n",
       "      <th>...</th>\n",
       "      <td>...</td>\n",
       "      <td>...</td>\n",
       "    </tr>\n",
       "    <tr>\n",
       "      <th>995</th>\n",
       "      <td>down</td>\n",
       "      <td>2</td>\n",
       "    </tr>\n",
       "    <tr>\n",
       "      <th>996</th>\n",
       "      <td>forward</td>\n",
       "      <td>7</td>\n",
       "    </tr>\n",
       "    <tr>\n",
       "      <th>997</th>\n",
       "      <td>down</td>\n",
       "      <td>2</td>\n",
       "    </tr>\n",
       "    <tr>\n",
       "      <th>998</th>\n",
       "      <td>forward</td>\n",
       "      <td>8</td>\n",
       "    </tr>\n",
       "    <tr>\n",
       "      <th>999</th>\n",
       "      <td>forward</td>\n",
       "      <td>3</td>\n",
       "    </tr>\n",
       "  </tbody>\n",
       "</table>\n",
       "<p>1000 rows × 2 columns</p>\n",
       "</div>"
      ],
      "text/plain": [
       "         loc  mag\n",
       "0    forward    1\n",
       "1       down    6\n",
       "2    forward    8\n",
       "3         up    3\n",
       "4       down    1\n",
       "..       ...  ...\n",
       "995     down    2\n",
       "996  forward    7\n",
       "997     down    2\n",
       "998  forward    8\n",
       "999  forward    3\n",
       "\n",
       "[1000 rows x 2 columns]"
      ]
     },
     "execution_count": 70,
     "metadata": {},
     "output_type": "execute_result"
    }
   ],
   "source": [
    "import pandas as pd \n",
    "data = pd.read_csv('C:/Users/Daniel/Desktop/Day2_input.txt')\n",
    "data.columns = [\"loc\"]\n",
    "data[\"loc\"] = data[\"loc\"].astype(str)\n",
    "data = data[\"loc\"].str.split(\" \", n = 1, expand = True)\n",
    "data.columns = [\"loc\", \"mag\"]\n",
    "data[\"loc\"] = data[\"loc\"].astype(str)\n",
    "data[\"mag\"] = data[\"mag\"].astype(int)\n",
    "data"
   ]
  },
  {
   "cell_type": "code",
   "execution_count": 71,
   "id": "ed068d1e",
   "metadata": {},
   "outputs": [
    {
     "name": "stdout",
     "output_type": "stream",
     "text": [
      "Horizontal x depth: \n",
      "1714950\n"
     ]
    }
   ],
   "source": [
    "f=data.loc[data['loc'] == 'forward', 'mag'].sum()\n",
    "u=data.loc[data['loc'] == 'up', 'mag'].sum()\n",
    "d=data.loc[data['loc'] == 'down', 'mag'].sum()\n",
    "print(\"Horizontal x depth: \")\n",
    "print(f*(d-u))"
   ]
  },
  {
   "cell_type": "code",
   "execution_count": 72,
   "id": "f55c1861",
   "metadata": {},
   "outputs": [],
   "source": [
    "aim = 0\n",
    "fo = 0\n",
    "dep = 0\n",
    "for index, row in data.iterrows():\n",
    "    if row['loc'] == 'forward':\n",
    "        fo = fo + row['mag']\n",
    "        dep = dep + (row['mag'] * aim)\n",
    "    if row['loc'] == 'up':\n",
    "        aim = aim - row['mag']\n",
    "    if row['loc'] == 'down':\n",
    "        aim = aim + row['mag']"
   ]
  },
  {
   "cell_type": "code",
   "execution_count": 73,
   "id": "0fac4040",
   "metadata": {},
   "outputs": [
    {
     "name": "stdout",
     "output_type": "stream",
     "text": [
      "Horizontal x depth: \n",
      "1281977850\n"
     ]
    }
   ],
   "source": [
    "print(\"Horizontal x depth: \")\n",
    "print(dep*fo)"
   ]
  },
  {
   "cell_type": "code",
   "execution_count": null,
   "id": "9dc3b53d",
   "metadata": {},
   "outputs": [],
   "source": []
  }
 ],
 "metadata": {
  "kernelspec": {
   "display_name": "Python 3 (ipykernel)",
   "language": "python",
   "name": "python3"
  },
  "language_info": {
   "codemirror_mode": {
    "name": "ipython",
    "version": 3
   },
   "file_extension": ".py",
   "mimetype": "text/x-python",
   "name": "python",
   "nbconvert_exporter": "python",
   "pygments_lexer": "ipython3",
   "version": "3.9.7"
  }
 },
 "nbformat": 4,
 "nbformat_minor": 5
}
